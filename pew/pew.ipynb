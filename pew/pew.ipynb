{
 "cells": [
  {
   "cell_type": "markdown",
   "metadata": {},
   "source": [
    "# importing the modules"
   ]
  },
  {
   "cell_type": "code",
   "execution_count": 1,
   "metadata": {},
   "outputs": [],
   "source": [
    "import pandas as pd\n",
    "import matplotlib.pyplot as plt"
   ]
  },
  {
   "cell_type": "markdown",
   "metadata": {},
   "source": [
    "# Importing the dataset"
   ]
  },
  {
   "cell_type": "code",
   "execution_count": 2,
   "metadata": {},
   "outputs": [],
   "source": [
    "pew_data = pd.read_csv('pew.csv')"
   ]
  },
  {
   "cell_type": "code",
   "execution_count": 3,
   "metadata": {},
   "outputs": [
    {
     "name": "stdout",
     "output_type": "stream",
     "text": [
      "The dataset is: \n"
     ]
    },
    {
     "data": {
      "text/html": [
       "<div>\n",
       "<style scoped>\n",
       "    .dataframe tbody tr th:only-of-type {\n",
       "        vertical-align: middle;\n",
       "    }\n",
       "\n",
       "    .dataframe tbody tr th {\n",
       "        vertical-align: top;\n",
       "    }\n",
       "\n",
       "    .dataframe thead th {\n",
       "        text-align: right;\n",
       "    }\n",
       "</style>\n",
       "<table border=\"1\" class=\"dataframe\">\n",
       "  <thead>\n",
       "    <tr style=\"text-align: right;\">\n",
       "      <th></th>\n",
       "      <th>religion</th>\n",
       "      <th>&lt;$10k</th>\n",
       "      <th>$10-20k</th>\n",
       "      <th>$20-30k</th>\n",
       "      <th>$30-40k</th>\n",
       "      <th>$40-50k</th>\n",
       "      <th>$50-75k</th>\n",
       "      <th>$75-100k</th>\n",
       "      <th>$100-150k</th>\n",
       "      <th>&gt;150k</th>\n",
       "      <th>Don't know/refused</th>\n",
       "    </tr>\n",
       "  </thead>\n",
       "  <tbody>\n",
       "    <tr>\n",
       "      <td>0</td>\n",
       "      <td>Agnostic</td>\n",
       "      <td>27</td>\n",
       "      <td>34</td>\n",
       "      <td>60</td>\n",
       "      <td>81</td>\n",
       "      <td>76</td>\n",
       "      <td>137</td>\n",
       "      <td>122</td>\n",
       "      <td>109</td>\n",
       "      <td>84</td>\n",
       "      <td>96</td>\n",
       "    </tr>\n",
       "    <tr>\n",
       "      <td>1</td>\n",
       "      <td>Atheist</td>\n",
       "      <td>12</td>\n",
       "      <td>27</td>\n",
       "      <td>37</td>\n",
       "      <td>52</td>\n",
       "      <td>35</td>\n",
       "      <td>70</td>\n",
       "      <td>73</td>\n",
       "      <td>59</td>\n",
       "      <td>74</td>\n",
       "      <td>76</td>\n",
       "    </tr>\n",
       "    <tr>\n",
       "      <td>2</td>\n",
       "      <td>Buddhist</td>\n",
       "      <td>27</td>\n",
       "      <td>21</td>\n",
       "      <td>30</td>\n",
       "      <td>34</td>\n",
       "      <td>33</td>\n",
       "      <td>58</td>\n",
       "      <td>62</td>\n",
       "      <td>39</td>\n",
       "      <td>53</td>\n",
       "      <td>54</td>\n",
       "    </tr>\n",
       "    <tr>\n",
       "      <td>3</td>\n",
       "      <td>Catholic</td>\n",
       "      <td>418</td>\n",
       "      <td>617</td>\n",
       "      <td>732</td>\n",
       "      <td>670</td>\n",
       "      <td>638</td>\n",
       "      <td>1116</td>\n",
       "      <td>949</td>\n",
       "      <td>792</td>\n",
       "      <td>633</td>\n",
       "      <td>1489</td>\n",
       "    </tr>\n",
       "    <tr>\n",
       "      <td>4</td>\n",
       "      <td>Don’t know/refused</td>\n",
       "      <td>15</td>\n",
       "      <td>14</td>\n",
       "      <td>15</td>\n",
       "      <td>11</td>\n",
       "      <td>10</td>\n",
       "      <td>35</td>\n",
       "      <td>21</td>\n",
       "      <td>17</td>\n",
       "      <td>18</td>\n",
       "      <td>116</td>\n",
       "    </tr>\n",
       "  </tbody>\n",
       "</table>\n",
       "</div>"
      ],
      "text/plain": [
       "             religion  <$10k  $10-20k  $20-30k  $30-40k  $40-50k  $50-75k  \\\n",
       "0            Agnostic     27       34       60       81       76      137   \n",
       "1             Atheist     12       27       37       52       35       70   \n",
       "2            Buddhist     27       21       30       34       33       58   \n",
       "3            Catholic    418      617      732      670      638     1116   \n",
       "4  Don’t know/refused     15       14       15       11       10       35   \n",
       "\n",
       "   $75-100k  $100-150k  >150k  Don't know/refused  \n",
       "0       122        109     84                  96  \n",
       "1        73         59     74                  76  \n",
       "2        62         39     53                  54  \n",
       "3       949        792    633                1489  \n",
       "4        21         17     18                 116  "
      ]
     },
     "execution_count": 3,
     "metadata": {},
     "output_type": "execute_result"
    }
   ],
   "source": [
    "print('The dataset is: ')\n",
    "pew_data.head()"
   ]
  },
  {
   "cell_type": "markdown",
   "metadata": {},
   "source": [
    "# Checking the datashape"
   ]
  },
  {
   "cell_type": "code",
   "execution_count": 4,
   "metadata": {},
   "outputs": [
    {
     "data": {
      "text/plain": [
       "(18, 11)"
      ]
     },
     "execution_count": 4,
     "metadata": {},
     "output_type": "execute_result"
    }
   ],
   "source": [
    "pew_data.shape"
   ]
  },
  {
   "cell_type": "markdown",
   "metadata": {},
   "source": [
    "# Displaying the information about the dataset"
   ]
  },
  {
   "cell_type": "code",
   "execution_count": 5,
   "metadata": {},
   "outputs": [
    {
     "name": "stdout",
     "output_type": "stream",
     "text": [
      "The information of dataset: \n",
      "<class 'pandas.core.frame.DataFrame'>\n",
      "RangeIndex: 18 entries, 0 to 17\n",
      "Data columns (total 11 columns):\n",
      "religion              18 non-null object\n",
      "<$10k                 18 non-null int64\n",
      "$10-20k               18 non-null int64\n",
      "$20-30k               18 non-null int64\n",
      "$30-40k               18 non-null int64\n",
      "$40-50k               18 non-null int64\n",
      "$50-75k               18 non-null int64\n",
      "$75-100k              18 non-null int64\n",
      "$100-150k             18 non-null int64\n",
      ">150k                 18 non-null int64\n",
      "Don't know/refused    18 non-null int64\n",
      "dtypes: int64(10), object(1)\n",
      "memory usage: 1.7+ KB\n"
     ]
    }
   ],
   "source": [
    "print('The information of dataset: ')\n",
    "pew_data.info()"
   ]
  },
  {
   "cell_type": "markdown",
   "metadata": {},
   "source": [
    "# meting the dataset to determine the working format"
   ]
  },
  {
   "cell_type": "code",
   "execution_count": 6,
   "metadata": {},
   "outputs": [
    {
     "name": "stdout",
     "output_type": "stream",
     "text": [
      "The dataset in working format: \n"
     ]
    },
    {
     "data": {
      "text/html": [
       "<div>\n",
       "<style scoped>\n",
       "    .dataframe tbody tr th:only-of-type {\n",
       "        vertical-align: middle;\n",
       "    }\n",
       "\n",
       "    .dataframe tbody tr th {\n",
       "        vertical-align: top;\n",
       "    }\n",
       "\n",
       "    .dataframe thead th {\n",
       "        text-align: right;\n",
       "    }\n",
       "</style>\n",
       "<table border=\"1\" class=\"dataframe\">\n",
       "  <thead>\n",
       "    <tr style=\"text-align: right;\">\n",
       "      <th></th>\n",
       "      <th>religion</th>\n",
       "      <th>IncomeDollarsPerThousand</th>\n",
       "      <th>Number of followers</th>\n",
       "    </tr>\n",
       "  </thead>\n",
       "  <tbody>\n",
       "    <tr>\n",
       "      <td>0</td>\n",
       "      <td>Agnostic</td>\n",
       "      <td>&lt;$10k</td>\n",
       "      <td>27</td>\n",
       "    </tr>\n",
       "    <tr>\n",
       "      <td>1</td>\n",
       "      <td>Atheist</td>\n",
       "      <td>&lt;$10k</td>\n",
       "      <td>12</td>\n",
       "    </tr>\n",
       "    <tr>\n",
       "      <td>2</td>\n",
       "      <td>Buddhist</td>\n",
       "      <td>&lt;$10k</td>\n",
       "      <td>27</td>\n",
       "    </tr>\n",
       "    <tr>\n",
       "      <td>3</td>\n",
       "      <td>Catholic</td>\n",
       "      <td>&lt;$10k</td>\n",
       "      <td>418</td>\n",
       "    </tr>\n",
       "    <tr>\n",
       "      <td>4</td>\n",
       "      <td>Don’t know/refused</td>\n",
       "      <td>&lt;$10k</td>\n",
       "      <td>15</td>\n",
       "    </tr>\n",
       "  </tbody>\n",
       "</table>\n",
       "</div>"
      ],
      "text/plain": [
       "             religion IncomeDollarsPerThousand  Number of followers\n",
       "0            Agnostic                    <$10k                   27\n",
       "1             Atheist                    <$10k                   12\n",
       "2            Buddhist                    <$10k                   27\n",
       "3            Catholic                    <$10k                  418\n",
       "4  Don’t know/refused                    <$10k                   15"
      ]
     },
     "execution_count": 6,
     "metadata": {},
     "output_type": "execute_result"
    }
   ],
   "source": [
    "pew_data_melt = pd.melt(pew_data,id_vars=['religion'], \n",
    "                        var_name = 'IncomeDollarsPerThousand',  \n",
    "                        value_name='Number of followers')\n",
    "print('The dataset in working format: ')\n",
    "pew_data_melt.head()"
   ]
  },
  {
   "cell_type": "code",
   "execution_count": 7,
   "metadata": {},
   "outputs": [
    {
     "data": {
      "text/plain": [
       "(180, 3)"
      ]
     },
     "execution_count": 7,
     "metadata": {},
     "output_type": "execute_result"
    }
   ],
   "source": [
    "pew_data_melt.shape"
   ]
  },
  {
   "cell_type": "markdown",
   "metadata": {},
   "source": [
    "# Formatting the income column"
   ]
  },
  {
   "cell_type": "code",
   "execution_count": 8,
   "metadata": {},
   "outputs": [],
   "source": [
    "pew_data_melt['IncomeDollarsPerThousand'] = pew_data_melt.IncomeDollarsPerThousand.\\\n",
    "str.replace('k', '').str.replace('$', '').str.replace('<', '').str.replace('>', '')"
   ]
  },
  {
   "cell_type": "markdown",
   "metadata": {},
   "source": [
    "# Renaming the column"
   ]
  },
  {
   "cell_type": "code",
   "execution_count": 9,
   "metadata": {},
   "outputs": [],
   "source": [
    "pew_data_melt = pew_data_melt.rename(columns={\"religion\": \"Religion\"})"
   ]
  },
  {
   "cell_type": "markdown",
   "metadata": {},
   "source": [
    "# Taking the maximum range of income"
   ]
  },
  {
   "cell_type": "code",
   "execution_count": 10,
   "metadata": {},
   "outputs": [],
   "source": [
    "pew_data_melt['IncomeDollarsPerThousand'] = pew_data_melt['IncomeDollarsPerThousand'].\\\n",
    "str.split('-').str[-1]"
   ]
  },
  {
   "cell_type": "markdown",
   "metadata": {},
   "source": [
    "# Describing the new dataframe"
   ]
  },
  {
   "cell_type": "code",
   "execution_count": 11,
   "metadata": {},
   "outputs": [
    {
     "data": {
      "text/html": [
       "<div>\n",
       "<style scoped>\n",
       "    .dataframe tbody tr th:only-of-type {\n",
       "        vertical-align: middle;\n",
       "    }\n",
       "\n",
       "    .dataframe tbody tr th {\n",
       "        vertical-align: top;\n",
       "    }\n",
       "\n",
       "    .dataframe thead th {\n",
       "        text-align: right;\n",
       "    }\n",
       "</style>\n",
       "<table border=\"1\" class=\"dataframe\">\n",
       "  <thead>\n",
       "    <tr style=\"text-align: right;\">\n",
       "      <th></th>\n",
       "      <th>Religion</th>\n",
       "      <th>IncomeDollarsPerThousand</th>\n",
       "      <th>Number of followers</th>\n",
       "    </tr>\n",
       "  </thead>\n",
       "  <tbody>\n",
       "    <tr>\n",
       "      <td>count</td>\n",
       "      <td>180</td>\n",
       "      <td>180</td>\n",
       "      <td>180.000000</td>\n",
       "    </tr>\n",
       "    <tr>\n",
       "      <td>unique</td>\n",
       "      <td>18</td>\n",
       "      <td>9</td>\n",
       "      <td>NaN</td>\n",
       "    </tr>\n",
       "    <tr>\n",
       "      <td>top</td>\n",
       "      <td>Mormon</td>\n",
       "      <td>150</td>\n",
       "      <td>NaN</td>\n",
       "    </tr>\n",
       "    <tr>\n",
       "      <td>freq</td>\n",
       "      <td>10</td>\n",
       "      <td>36</td>\n",
       "      <td>NaN</td>\n",
       "    </tr>\n",
       "    <tr>\n",
       "      <td>mean</td>\n",
       "      <td>NaN</td>\n",
       "      <td>NaN</td>\n",
       "      <td>197.533333</td>\n",
       "    </tr>\n",
       "    <tr>\n",
       "      <td>std</td>\n",
       "      <td>NaN</td>\n",
       "      <td>NaN</td>\n",
       "      <td>326.548693</td>\n",
       "    </tr>\n",
       "    <tr>\n",
       "      <td>min</td>\n",
       "      <td>NaN</td>\n",
       "      <td>NaN</td>\n",
       "      <td>1.000000</td>\n",
       "    </tr>\n",
       "    <tr>\n",
       "      <td>25%</td>\n",
       "      <td>NaN</td>\n",
       "      <td>NaN</td>\n",
       "      <td>18.000000</td>\n",
       "    </tr>\n",
       "    <tr>\n",
       "      <td>50%</td>\n",
       "      <td>NaN</td>\n",
       "      <td>NaN</td>\n",
       "      <td>46.000000</td>\n",
       "    </tr>\n",
       "    <tr>\n",
       "      <td>75%</td>\n",
       "      <td>NaN</td>\n",
       "      <td>NaN</td>\n",
       "      <td>218.500000</td>\n",
       "    </tr>\n",
       "    <tr>\n",
       "      <td>max</td>\n",
       "      <td>NaN</td>\n",
       "      <td>NaN</td>\n",
       "      <td>1529.000000</td>\n",
       "    </tr>\n",
       "  </tbody>\n",
       "</table>\n",
       "</div>"
      ],
      "text/plain": [
       "       Religion IncomeDollarsPerThousand  Number of followers\n",
       "count       180                      180           180.000000\n",
       "unique       18                        9                  NaN\n",
       "top      Mormon                      150                  NaN\n",
       "freq         10                       36                  NaN\n",
       "mean        NaN                      NaN           197.533333\n",
       "std         NaN                      NaN           326.548693\n",
       "min         NaN                      NaN             1.000000\n",
       "25%         NaN                      NaN            18.000000\n",
       "50%         NaN                      NaN            46.000000\n",
       "75%         NaN                      NaN           218.500000\n",
       "max         NaN                      NaN          1529.000000"
      ]
     },
     "execution_count": 11,
     "metadata": {},
     "output_type": "execute_result"
    }
   ],
   "source": [
    "pew_data_melt.describe(include = 'all')"
   ]
  },
  {
   "cell_type": "code",
   "execution_count": 12,
   "metadata": {},
   "outputs": [
    {
     "name": "stdout",
     "output_type": "stream",
     "text": [
      "<class 'pandas.core.frame.DataFrame'>\n",
      "RangeIndex: 180 entries, 0 to 179\n",
      "Data columns (total 3 columns):\n",
      "Religion                    180 non-null object\n",
      "IncomeDollarsPerThousand    180 non-null object\n",
      "Number of followers         180 non-null int64\n",
      "dtypes: int64(1), object(2)\n",
      "memory usage: 4.3+ KB\n"
     ]
    }
   ],
   "source": [
    "pew_data_melt.info()"
   ]
  },
  {
   "cell_type": "markdown",
   "metadata": {},
   "source": [
    "# Selecting the particular religion and displaying the information"
   ]
  },
  {
   "cell_type": "code",
   "execution_count": 13,
   "metadata": {},
   "outputs": [
    {
     "name": "stdout",
     "output_type": "stream",
     "text": [
      "Selecting a particular religion and displaying its information: \n"
     ]
    },
    {
     "data": {
      "text/html": [
       "<div>\n",
       "<style scoped>\n",
       "    .dataframe tbody tr th:only-of-type {\n",
       "        vertical-align: middle;\n",
       "    }\n",
       "\n",
       "    .dataframe tbody tr th {\n",
       "        vertical-align: top;\n",
       "    }\n",
       "\n",
       "    .dataframe thead th {\n",
       "        text-align: right;\n",
       "    }\n",
       "</style>\n",
       "<table border=\"1\" class=\"dataframe\">\n",
       "  <thead>\n",
       "    <tr style=\"text-align: right;\">\n",
       "      <th></th>\n",
       "      <th>Religion</th>\n",
       "      <th>IncomeDollarsPerThousand</th>\n",
       "      <th>Number of followers</th>\n",
       "    </tr>\n",
       "  </thead>\n",
       "  <tbody>\n",
       "    <tr>\n",
       "      <td>0</td>\n",
       "      <td>Agnostic</td>\n",
       "      <td>10</td>\n",
       "      <td>27</td>\n",
       "    </tr>\n",
       "    <tr>\n",
       "      <td>18</td>\n",
       "      <td>Agnostic</td>\n",
       "      <td>20</td>\n",
       "      <td>34</td>\n",
       "    </tr>\n",
       "    <tr>\n",
       "      <td>36</td>\n",
       "      <td>Agnostic</td>\n",
       "      <td>30</td>\n",
       "      <td>60</td>\n",
       "    </tr>\n",
       "    <tr>\n",
       "      <td>54</td>\n",
       "      <td>Agnostic</td>\n",
       "      <td>40</td>\n",
       "      <td>81</td>\n",
       "    </tr>\n",
       "    <tr>\n",
       "      <td>72</td>\n",
       "      <td>Agnostic</td>\n",
       "      <td>50</td>\n",
       "      <td>76</td>\n",
       "    </tr>\n",
       "    <tr>\n",
       "      <td>90</td>\n",
       "      <td>Agnostic</td>\n",
       "      <td>75</td>\n",
       "      <td>137</td>\n",
       "    </tr>\n",
       "    <tr>\n",
       "      <td>108</td>\n",
       "      <td>Agnostic</td>\n",
       "      <td>100</td>\n",
       "      <td>122</td>\n",
       "    </tr>\n",
       "    <tr>\n",
       "      <td>126</td>\n",
       "      <td>Agnostic</td>\n",
       "      <td>150</td>\n",
       "      <td>109</td>\n",
       "    </tr>\n",
       "    <tr>\n",
       "      <td>144</td>\n",
       "      <td>Agnostic</td>\n",
       "      <td>150</td>\n",
       "      <td>84</td>\n",
       "    </tr>\n",
       "    <tr>\n",
       "      <td>162</td>\n",
       "      <td>Agnostic</td>\n",
       "      <td>Don't now/refused</td>\n",
       "      <td>96</td>\n",
       "    </tr>\n",
       "  </tbody>\n",
       "</table>\n",
       "</div>"
      ],
      "text/plain": [
       "     Religion IncomeDollarsPerThousand  Number of followers\n",
       "0    Agnostic                       10                   27\n",
       "18   Agnostic                       20                   34\n",
       "36   Agnostic                       30                   60\n",
       "54   Agnostic                       40                   81\n",
       "72   Agnostic                       50                   76\n",
       "90   Agnostic                       75                  137\n",
       "108  Agnostic                      100                  122\n",
       "126  Agnostic                      150                  109\n",
       "144  Agnostic                      150                   84\n",
       "162  Agnostic        Don't now/refused                   96"
      ]
     },
     "execution_count": 13,
     "metadata": {},
     "output_type": "execute_result"
    }
   ],
   "source": [
    "religion_agno = pew_data_melt.loc[pew_data_melt['Religion'] == 'Agnostic']\n",
    "print('Selecting a particular religion and displaying its information: ')\n",
    "religion_agno"
   ]
  },
  {
   "cell_type": "code",
   "execution_count": 14,
   "metadata": {},
   "outputs": [
    {
     "name": "stdout",
     "output_type": "stream",
     "text": [
      "The income column after formatting: \n"
     ]
    },
    {
     "data": {
      "text/html": [
       "<div>\n",
       "<style scoped>\n",
       "    .dataframe tbody tr th:only-of-type {\n",
       "        vertical-align: middle;\n",
       "    }\n",
       "\n",
       "    .dataframe tbody tr th {\n",
       "        vertical-align: top;\n",
       "    }\n",
       "\n",
       "    .dataframe thead th {\n",
       "        text-align: right;\n",
       "    }\n",
       "</style>\n",
       "<table border=\"1\" class=\"dataframe\">\n",
       "  <thead>\n",
       "    <tr style=\"text-align: right;\">\n",
       "      <th></th>\n",
       "      <th>Religion</th>\n",
       "      <th>IncomeDollarsPerThousand</th>\n",
       "      <th>Number of followers</th>\n",
       "    </tr>\n",
       "  </thead>\n",
       "  <tbody>\n",
       "    <tr>\n",
       "      <td>0</td>\n",
       "      <td>Agnostic</td>\n",
       "      <td>10</td>\n",
       "      <td>27</td>\n",
       "    </tr>\n",
       "    <tr>\n",
       "      <td>18</td>\n",
       "      <td>Agnostic</td>\n",
       "      <td>20</td>\n",
       "      <td>34</td>\n",
       "    </tr>\n",
       "    <tr>\n",
       "      <td>36</td>\n",
       "      <td>Agnostic</td>\n",
       "      <td>30</td>\n",
       "      <td>60</td>\n",
       "    </tr>\n",
       "    <tr>\n",
       "      <td>54</td>\n",
       "      <td>Agnostic</td>\n",
       "      <td>40</td>\n",
       "      <td>81</td>\n",
       "    </tr>\n",
       "    <tr>\n",
       "      <td>72</td>\n",
       "      <td>Agnostic</td>\n",
       "      <td>50</td>\n",
       "      <td>76</td>\n",
       "    </tr>\n",
       "    <tr>\n",
       "      <td>90</td>\n",
       "      <td>Agnostic</td>\n",
       "      <td>75</td>\n",
       "      <td>137</td>\n",
       "    </tr>\n",
       "    <tr>\n",
       "      <td>108</td>\n",
       "      <td>Agnostic</td>\n",
       "      <td>100</td>\n",
       "      <td>122</td>\n",
       "    </tr>\n",
       "    <tr>\n",
       "      <td>126</td>\n",
       "      <td>Agnostic</td>\n",
       "      <td>150</td>\n",
       "      <td>109</td>\n",
       "    </tr>\n",
       "    <tr>\n",
       "      <td>144</td>\n",
       "      <td>Agnostic</td>\n",
       "      <td>150</td>\n",
       "      <td>84</td>\n",
       "    </tr>\n",
       "    <tr>\n",
       "      <td>162</td>\n",
       "      <td>Agnostic</td>\n",
       "      <td>Don't now/refused</td>\n",
       "      <td>96</td>\n",
       "    </tr>\n",
       "  </tbody>\n",
       "</table>\n",
       "</div>"
      ],
      "text/plain": [
       "     Religion IncomeDollarsPerThousand  Number of followers\n",
       "0    Agnostic                       10                   27\n",
       "18   Agnostic                       20                   34\n",
       "36   Agnostic                       30                   60\n",
       "54   Agnostic                       40                   81\n",
       "72   Agnostic                       50                   76\n",
       "90   Agnostic                       75                  137\n",
       "108  Agnostic                      100                  122\n",
       "126  Agnostic                      150                  109\n",
       "144  Agnostic                      150                   84\n",
       "162  Agnostic        Don't now/refused                   96"
      ]
     },
     "execution_count": 14,
     "metadata": {},
     "output_type": "execute_result"
    }
   ],
   "source": [
    "print('The income column after formatting: ')\n",
    "religion_agno = pew_data_melt.loc[pew_data_melt['Religion'] == 'Agnostic']\n",
    "religion_agno"
   ]
  },
  {
   "cell_type": "markdown",
   "metadata": {},
   "source": [
    "# Removing \"Don't now/refused\" value from the dataframe and creating a new dataframe"
   ]
  },
  {
   "cell_type": "code",
   "execution_count": 15,
   "metadata": {},
   "outputs": [
    {
     "name": "stdout",
     "output_type": "stream",
     "text": [
      "Creating the \"Don't now/refused\" dataframe\n"
     ]
    },
    {
     "data": {
      "text/html": [
       "<div>\n",
       "<style scoped>\n",
       "    .dataframe tbody tr th:only-of-type {\n",
       "        vertical-align: middle;\n",
       "    }\n",
       "\n",
       "    .dataframe tbody tr th {\n",
       "        vertical-align: top;\n",
       "    }\n",
       "\n",
       "    .dataframe thead th {\n",
       "        text-align: right;\n",
       "    }\n",
       "</style>\n",
       "<table border=\"1\" class=\"dataframe\">\n",
       "  <thead>\n",
       "    <tr style=\"text-align: right;\">\n",
       "      <th></th>\n",
       "      <th>Religion</th>\n",
       "      <th>IncomeDollarsPerThousand</th>\n",
       "      <th>Number of followers</th>\n",
       "    </tr>\n",
       "  </thead>\n",
       "  <tbody>\n",
       "    <tr>\n",
       "      <td>162</td>\n",
       "      <td>Agnostic</td>\n",
       "      <td>Don't now/refused</td>\n",
       "      <td>96</td>\n",
       "    </tr>\n",
       "    <tr>\n",
       "      <td>163</td>\n",
       "      <td>Atheist</td>\n",
       "      <td>Don't now/refused</td>\n",
       "      <td>76</td>\n",
       "    </tr>\n",
       "    <tr>\n",
       "      <td>164</td>\n",
       "      <td>Buddhist</td>\n",
       "      <td>Don't now/refused</td>\n",
       "      <td>54</td>\n",
       "    </tr>\n",
       "    <tr>\n",
       "      <td>165</td>\n",
       "      <td>Catholic</td>\n",
       "      <td>Don't now/refused</td>\n",
       "      <td>1489</td>\n",
       "    </tr>\n",
       "    <tr>\n",
       "      <td>166</td>\n",
       "      <td>Don’t know/refused</td>\n",
       "      <td>Don't now/refused</td>\n",
       "      <td>116</td>\n",
       "    </tr>\n",
       "    <tr>\n",
       "      <td>167</td>\n",
       "      <td>Evangelical Prot</td>\n",
       "      <td>Don't now/refused</td>\n",
       "      <td>1529</td>\n",
       "    </tr>\n",
       "    <tr>\n",
       "      <td>168</td>\n",
       "      <td>Hindu</td>\n",
       "      <td>Don't now/refused</td>\n",
       "      <td>37</td>\n",
       "    </tr>\n",
       "    <tr>\n",
       "      <td>169</td>\n",
       "      <td>Historically Black Prot</td>\n",
       "      <td>Don't now/refused</td>\n",
       "      <td>339</td>\n",
       "    </tr>\n",
       "    <tr>\n",
       "      <td>170</td>\n",
       "      <td>Jehovah's Witness</td>\n",
       "      <td>Don't now/refused</td>\n",
       "      <td>37</td>\n",
       "    </tr>\n",
       "    <tr>\n",
       "      <td>171</td>\n",
       "      <td>Jewish</td>\n",
       "      <td>Don't now/refused</td>\n",
       "      <td>162</td>\n",
       "    </tr>\n",
       "    <tr>\n",
       "      <td>172</td>\n",
       "      <td>Mainline Prot</td>\n",
       "      <td>Don't now/refused</td>\n",
       "      <td>1328</td>\n",
       "    </tr>\n",
       "    <tr>\n",
       "      <td>173</td>\n",
       "      <td>Mormon</td>\n",
       "      <td>Don't now/refused</td>\n",
       "      <td>69</td>\n",
       "    </tr>\n",
       "    <tr>\n",
       "      <td>174</td>\n",
       "      <td>Muslim</td>\n",
       "      <td>Don't now/refused</td>\n",
       "      <td>22</td>\n",
       "    </tr>\n",
       "    <tr>\n",
       "      <td>175</td>\n",
       "      <td>Orthodox</td>\n",
       "      <td>Don't now/refused</td>\n",
       "      <td>73</td>\n",
       "    </tr>\n",
       "    <tr>\n",
       "      <td>176</td>\n",
       "      <td>Other Christian</td>\n",
       "      <td>Don't now/refused</td>\n",
       "      <td>18</td>\n",
       "    </tr>\n",
       "    <tr>\n",
       "      <td>177</td>\n",
       "      <td>Other Faiths</td>\n",
       "      <td>Don't now/refused</td>\n",
       "      <td>71</td>\n",
       "    </tr>\n",
       "    <tr>\n",
       "      <td>178</td>\n",
       "      <td>Other World Religions</td>\n",
       "      <td>Don't now/refused</td>\n",
       "      <td>8</td>\n",
       "    </tr>\n",
       "    <tr>\n",
       "      <td>179</td>\n",
       "      <td>Unaffiliated</td>\n",
       "      <td>Don't now/refused</td>\n",
       "      <td>597</td>\n",
       "    </tr>\n",
       "  </tbody>\n",
       "</table>\n",
       "</div>"
      ],
      "text/plain": [
       "                    Religion IncomeDollarsPerThousand  Number of followers\n",
       "162                 Agnostic        Don't now/refused                   96\n",
       "163                  Atheist        Don't now/refused                   76\n",
       "164                 Buddhist        Don't now/refused                   54\n",
       "165                 Catholic        Don't now/refused                 1489\n",
       "166       Don’t know/refused        Don't now/refused                  116\n",
       "167         Evangelical Prot        Don't now/refused                 1529\n",
       "168                    Hindu        Don't now/refused                   37\n",
       "169  Historically Black Prot        Don't now/refused                  339\n",
       "170        Jehovah's Witness        Don't now/refused                   37\n",
       "171                   Jewish        Don't now/refused                  162\n",
       "172            Mainline Prot        Don't now/refused                 1328\n",
       "173                   Mormon        Don't now/refused                   69\n",
       "174                   Muslim        Don't now/refused                   22\n",
       "175                 Orthodox        Don't now/refused                   73\n",
       "176          Other Christian        Don't now/refused                   18\n",
       "177             Other Faiths        Don't now/refused                   71\n",
       "178    Other World Religions        Don't now/refused                    8\n",
       "179             Unaffiliated        Don't now/refused                  597"
      ]
     },
     "execution_count": 15,
     "metadata": {},
     "output_type": "execute_result"
    }
   ],
   "source": [
    "print('''Creating the \"Don't now/refused\" dataframe''')\n",
    "do_not_know = pew_data_melt.loc[pew_data_melt['IncomeDollarsPerThousand'] == \n",
    "                                \"Don't now/refused\"]\n",
    "do_not_know"
   ]
  },
  {
   "cell_type": "markdown",
   "metadata": {},
   "source": [
    "# Taking only int type of income as Specified dataframe"
   ]
  },
  {
   "cell_type": "code",
   "execution_count": 16,
   "metadata": {},
   "outputs": [
    {
     "name": "stdout",
     "output_type": "stream",
     "text": [
      "Specified dataframe: \n"
     ]
    },
    {
     "data": {
      "text/html": [
       "<div>\n",
       "<style scoped>\n",
       "    .dataframe tbody tr th:only-of-type {\n",
       "        vertical-align: middle;\n",
       "    }\n",
       "\n",
       "    .dataframe tbody tr th {\n",
       "        vertical-align: top;\n",
       "    }\n",
       "\n",
       "    .dataframe thead th {\n",
       "        text-align: right;\n",
       "    }\n",
       "</style>\n",
       "<table border=\"1\" class=\"dataframe\">\n",
       "  <thead>\n",
       "    <tr style=\"text-align: right;\">\n",
       "      <th></th>\n",
       "      <th>Religion</th>\n",
       "      <th>IncomeDollarsPerThousand</th>\n",
       "      <th>Number of followers</th>\n",
       "    </tr>\n",
       "  </thead>\n",
       "  <tbody>\n",
       "    <tr>\n",
       "      <td>0</td>\n",
       "      <td>Agnostic</td>\n",
       "      <td>10</td>\n",
       "      <td>27</td>\n",
       "    </tr>\n",
       "    <tr>\n",
       "      <td>1</td>\n",
       "      <td>Atheist</td>\n",
       "      <td>10</td>\n",
       "      <td>12</td>\n",
       "    </tr>\n",
       "    <tr>\n",
       "      <td>2</td>\n",
       "      <td>Buddhist</td>\n",
       "      <td>10</td>\n",
       "      <td>27</td>\n",
       "    </tr>\n",
       "    <tr>\n",
       "      <td>3</td>\n",
       "      <td>Catholic</td>\n",
       "      <td>10</td>\n",
       "      <td>418</td>\n",
       "    </tr>\n",
       "    <tr>\n",
       "      <td>4</td>\n",
       "      <td>Don’t know/refused</td>\n",
       "      <td>10</td>\n",
       "      <td>15</td>\n",
       "    </tr>\n",
       "    <tr>\n",
       "      <td>...</td>\n",
       "      <td>...</td>\n",
       "      <td>...</td>\n",
       "      <td>...</td>\n",
       "    </tr>\n",
       "    <tr>\n",
       "      <td>157</td>\n",
       "      <td>Orthodox</td>\n",
       "      <td>150</td>\n",
       "      <td>46</td>\n",
       "    </tr>\n",
       "    <tr>\n",
       "      <td>158</td>\n",
       "      <td>Other Christian</td>\n",
       "      <td>150</td>\n",
       "      <td>12</td>\n",
       "    </tr>\n",
       "    <tr>\n",
       "      <td>159</td>\n",
       "      <td>Other Faiths</td>\n",
       "      <td>150</td>\n",
       "      <td>41</td>\n",
       "    </tr>\n",
       "    <tr>\n",
       "      <td>160</td>\n",
       "      <td>Other World Religions</td>\n",
       "      <td>150</td>\n",
       "      <td>4</td>\n",
       "    </tr>\n",
       "    <tr>\n",
       "      <td>161</td>\n",
       "      <td>Unaffiliated</td>\n",
       "      <td>150</td>\n",
       "      <td>258</td>\n",
       "    </tr>\n",
       "  </tbody>\n",
       "</table>\n",
       "<p>162 rows × 3 columns</p>\n",
       "</div>"
      ],
      "text/plain": [
       "                  Religion IncomeDollarsPerThousand  Number of followers\n",
       "0                 Agnostic                       10                   27\n",
       "1                  Atheist                       10                   12\n",
       "2                 Buddhist                       10                   27\n",
       "3                 Catholic                       10                  418\n",
       "4       Don’t know/refused                       10                   15\n",
       "..                     ...                      ...                  ...\n",
       "157               Orthodox                      150                   46\n",
       "158        Other Christian                      150                   12\n",
       "159           Other Faiths                      150                   41\n",
       "160  Other World Religions                      150                    4\n",
       "161           Unaffiliated                      150                  258\n",
       "\n",
       "[162 rows x 3 columns]"
      ]
     },
     "execution_count": 16,
     "metadata": {},
     "output_type": "execute_result"
    }
   ],
   "source": [
    "print('Specified dataframe: ')\n",
    "pew_useful_data = pew_data_melt[pew_data_melt.IncomeDollarsPerThousand != \n",
    "                                \"Don't now/refused\"]\n",
    "pew_useful_data"
   ]
  },
  {
   "cell_type": "code",
   "execution_count": 17,
   "metadata": {},
   "outputs": [
    {
     "name": "stderr",
     "output_type": "stream",
     "text": [
      "/Applications/ANACONDA/anaconda3/lib/python3.7/site-packages/ipykernel_launcher.py:2: SettingWithCopyWarning: \n",
      "A value is trying to be set on a copy of a slice from a DataFrame.\n",
      "Try using .loc[row_indexer,col_indexer] = value instead\n",
      "\n",
      "See the caveats in the documentation: http://pandas.pydata.org/pandas-docs/stable/user_guide/indexing.html#returning-a-view-versus-a-copy\n",
      "  \n"
     ]
    }
   ],
   "source": [
    "pew_useful_data['IncomeDollarsPerThousand'] = pew_useful_data['IncomeDollarsPerThousand'].\\\n",
    "astype(str).astype(int)"
   ]
  },
  {
   "cell_type": "code",
   "execution_count": 18,
   "metadata": {},
   "outputs": [
    {
     "name": "stdout",
     "output_type": "stream",
     "text": [
      "The changed datatype of income column: \n",
      "<class 'pandas.core.frame.DataFrame'>\n",
      "Int64Index: 162 entries, 0 to 161\n",
      "Data columns (total 3 columns):\n",
      "Religion                    162 non-null object\n",
      "IncomeDollarsPerThousand    162 non-null int64\n",
      "Number of followers         162 non-null int64\n",
      "dtypes: int64(2), object(1)\n",
      "memory usage: 5.1+ KB\n"
     ]
    }
   ],
   "source": [
    "print('The changed datatype of income column: ')\n",
    "pew_useful_data.info()"
   ]
  },
  {
   "cell_type": "code",
   "execution_count": 19,
   "metadata": {},
   "outputs": [
    {
     "data": {
      "text/html": [
       "<div>\n",
       "<style scoped>\n",
       "    .dataframe tbody tr th:only-of-type {\n",
       "        vertical-align: middle;\n",
       "    }\n",
       "\n",
       "    .dataframe tbody tr th {\n",
       "        vertical-align: top;\n",
       "    }\n",
       "\n",
       "    .dataframe thead th {\n",
       "        text-align: right;\n",
       "    }\n",
       "</style>\n",
       "<table border=\"1\" class=\"dataframe\">\n",
       "  <thead>\n",
       "    <tr style=\"text-align: right;\">\n",
       "      <th></th>\n",
       "      <th>Religion</th>\n",
       "      <th>IncomeDollarsPerThousand</th>\n",
       "      <th>Number of followers</th>\n",
       "    </tr>\n",
       "  </thead>\n",
       "  <tbody>\n",
       "    <tr>\n",
       "      <td>0</td>\n",
       "      <td>Agnostic</td>\n",
       "      <td>10</td>\n",
       "      <td>27</td>\n",
       "    </tr>\n",
       "    <tr>\n",
       "      <td>1</td>\n",
       "      <td>Atheist</td>\n",
       "      <td>10</td>\n",
       "      <td>12</td>\n",
       "    </tr>\n",
       "    <tr>\n",
       "      <td>2</td>\n",
       "      <td>Buddhist</td>\n",
       "      <td>10</td>\n",
       "      <td>27</td>\n",
       "    </tr>\n",
       "    <tr>\n",
       "      <td>3</td>\n",
       "      <td>Catholic</td>\n",
       "      <td>10</td>\n",
       "      <td>418</td>\n",
       "    </tr>\n",
       "    <tr>\n",
       "      <td>4</td>\n",
       "      <td>Don’t know/refused</td>\n",
       "      <td>10</td>\n",
       "      <td>15</td>\n",
       "    </tr>\n",
       "    <tr>\n",
       "      <td>...</td>\n",
       "      <td>...</td>\n",
       "      <td>...</td>\n",
       "      <td>...</td>\n",
       "    </tr>\n",
       "    <tr>\n",
       "      <td>157</td>\n",
       "      <td>Orthodox</td>\n",
       "      <td>150</td>\n",
       "      <td>46</td>\n",
       "    </tr>\n",
       "    <tr>\n",
       "      <td>158</td>\n",
       "      <td>Other Christian</td>\n",
       "      <td>150</td>\n",
       "      <td>12</td>\n",
       "    </tr>\n",
       "    <tr>\n",
       "      <td>159</td>\n",
       "      <td>Other Faiths</td>\n",
       "      <td>150</td>\n",
       "      <td>41</td>\n",
       "    </tr>\n",
       "    <tr>\n",
       "      <td>160</td>\n",
       "      <td>Other World Religions</td>\n",
       "      <td>150</td>\n",
       "      <td>4</td>\n",
       "    </tr>\n",
       "    <tr>\n",
       "      <td>161</td>\n",
       "      <td>Unaffiliated</td>\n",
       "      <td>150</td>\n",
       "      <td>258</td>\n",
       "    </tr>\n",
       "  </tbody>\n",
       "</table>\n",
       "<p>162 rows × 3 columns</p>\n",
       "</div>"
      ],
      "text/plain": [
       "                  Religion  IncomeDollarsPerThousand  Number of followers\n",
       "0                 Agnostic                        10                   27\n",
       "1                  Atheist                        10                   12\n",
       "2                 Buddhist                        10                   27\n",
       "3                 Catholic                        10                  418\n",
       "4       Don’t know/refused                        10                   15\n",
       "..                     ...                       ...                  ...\n",
       "157               Orthodox                       150                   46\n",
       "158        Other Christian                       150                   12\n",
       "159           Other Faiths                       150                   41\n",
       "160  Other World Religions                       150                    4\n",
       "161           Unaffiliated                       150                  258\n",
       "\n",
       "[162 rows x 3 columns]"
      ]
     },
     "execution_count": 19,
     "metadata": {},
     "output_type": "execute_result"
    }
   ],
   "source": [
    "pew_useful_data"
   ]
  },
  {
   "cell_type": "code",
   "execution_count": 20,
   "metadata": {},
   "outputs": [
    {
     "data": {
      "text/html": [
       "<div>\n",
       "<style scoped>\n",
       "    .dataframe tbody tr th:only-of-type {\n",
       "        vertical-align: middle;\n",
       "    }\n",
       "\n",
       "    .dataframe tbody tr th {\n",
       "        vertical-align: top;\n",
       "    }\n",
       "\n",
       "    .dataframe thead th {\n",
       "        text-align: right;\n",
       "    }\n",
       "</style>\n",
       "<table border=\"1\" class=\"dataframe\">\n",
       "  <thead>\n",
       "    <tr style=\"text-align: right;\">\n",
       "      <th></th>\n",
       "      <th>IncomeDollarsPerThousand</th>\n",
       "      <th>Number of followers</th>\n",
       "    </tr>\n",
       "  </thead>\n",
       "  <tbody>\n",
       "    <tr>\n",
       "      <td>count</td>\n",
       "      <td>162.000000</td>\n",
       "      <td>162.000000</td>\n",
       "    </tr>\n",
       "    <tr>\n",
       "      <td>mean</td>\n",
       "      <td>69.444444</td>\n",
       "      <td>181.697531</td>\n",
       "    </tr>\n",
       "    <tr>\n",
       "      <td>std</td>\n",
       "      <td>50.402110</td>\n",
       "      <td>293.791854</td>\n",
       "    </tr>\n",
       "    <tr>\n",
       "      <td>min</td>\n",
       "      <td>10.000000</td>\n",
       "      <td>1.000000</td>\n",
       "    </tr>\n",
       "    <tr>\n",
       "      <td>25%</td>\n",
       "      <td>30.000000</td>\n",
       "      <td>17.000000</td>\n",
       "    </tr>\n",
       "    <tr>\n",
       "      <td>50%</td>\n",
       "      <td>50.000000</td>\n",
       "      <td>41.500000</td>\n",
       "    </tr>\n",
       "    <tr>\n",
       "      <td>75%</td>\n",
       "      <td>100.000000</td>\n",
       "      <td>212.000000</td>\n",
       "    </tr>\n",
       "    <tr>\n",
       "      <td>max</td>\n",
       "      <td>150.000000</td>\n",
       "      <td>1486.000000</td>\n",
       "    </tr>\n",
       "  </tbody>\n",
       "</table>\n",
       "</div>"
      ],
      "text/plain": [
       "       IncomeDollarsPerThousand  Number of followers\n",
       "count                162.000000           162.000000\n",
       "mean                  69.444444           181.697531\n",
       "std                   50.402110           293.791854\n",
       "min                   10.000000             1.000000\n",
       "25%                   30.000000            17.000000\n",
       "50%                   50.000000            41.500000\n",
       "75%                  100.000000           212.000000\n",
       "max                  150.000000          1486.000000"
      ]
     },
     "execution_count": 20,
     "metadata": {},
     "output_type": "execute_result"
    }
   ],
   "source": [
    "pew_useful_data.describe()"
   ]
  },
  {
   "cell_type": "code",
   "execution_count": 21,
   "metadata": {},
   "outputs": [
    {
     "data": {
      "image/png": "[encoded data removed]",
      "text/plain": [
       "<Figure size 432x288 with 1 Axes>"
      ]
     },
     "metadata": {
      "needs_background": "light"
     },
     "output_type": "display_data"
    }
   ],
   "source": [
    "x = pew_useful_data['Religion']\n",
    "y = pew_useful_data['Number of followers']\n",
    "\n",
    "fig, ax = plt.subplots()\n",
    "plt.bar(x, y)\n",
    "plt.xticks(x, pew_useful_data['Religion'], rotation='vertical')\n",
    "plt.ylabel('Number of followers')\n",
    "plt.title('The relion and its followers')\n",
    "plt.show()"
   ]
  },
  {
   "cell_type": "markdown",
   "metadata": {},
   "source": [
    "# Printing the different religion"
   ]
  },
  {
   "cell_type": "code",
   "execution_count": 22,
   "metadata": {},
   "outputs": [
    {
     "data": {
      "text/plain": [
       "['Agnostic',\n",
       " 'Atheist',\n",
       " 'Buddhist',\n",
       " 'Catholic',\n",
       " 'Don’t know/refused',\n",
       " 'Evangelical Prot',\n",
       " 'Hindu',\n",
       " 'Historically Black Prot',\n",
       " \"Jehovah's Witness\",\n",
       " 'Jewish',\n",
       " 'Mainline Prot',\n",
       " 'Mormon',\n",
       " 'Muslim',\n",
       " 'Orthodox',\n",
       " 'Other Christian',\n",
       " 'Other Faiths',\n",
       " 'Other World Religions',\n",
       " 'Unaffiliated']"
      ]
     },
     "execution_count": 22,
     "metadata": {},
     "output_type": "execute_result"
    }
   ],
   "source": [
    " pew_useful_data.Religion.unique().tolist()"
   ]
  },
  {
   "cell_type": "markdown",
   "metadata": {},
   "source": [
    "# Calculating the number of people following a particular religion"
   ]
  },
  {
   "cell_type": "code",
   "execution_count": 23,
   "metadata": {},
   "outputs": [
    {
     "name": "stdout",
     "output_type": "stream",
     "text": [
      "Total count according to the Number of followers per religion: \n"
     ]
    },
    {
     "data": {
      "text/html": [
       "<div>\n",
       "<style scoped>\n",
       "    .dataframe tbody tr th:only-of-type {\n",
       "        vertical-align: middle;\n",
       "    }\n",
       "\n",
       "    .dataframe tbody tr th {\n",
       "        vertical-align: top;\n",
       "    }\n",
       "\n",
       "    .dataframe thead th {\n",
       "        text-align: right;\n",
       "    }\n",
       "</style>\n",
       "<table border=\"1\" class=\"dataframe\">\n",
       "  <thead>\n",
       "    <tr style=\"text-align: right;\">\n",
       "      <th></th>\n",
       "      <th>Number of followers</th>\n",
       "    </tr>\n",
       "    <tr>\n",
       "      <th>Religion</th>\n",
       "      <th></th>\n",
       "    </tr>\n",
       "  </thead>\n",
       "  <tbody>\n",
       "    <tr>\n",
       "      <td>Agnostic</td>\n",
       "      <td>730</td>\n",
       "    </tr>\n",
       "    <tr>\n",
       "      <td>Atheist</td>\n",
       "      <td>439</td>\n",
       "    </tr>\n",
       "    <tr>\n",
       "      <td>Buddhist</td>\n",
       "      <td>357</td>\n",
       "    </tr>\n",
       "    <tr>\n",
       "      <td>Catholic</td>\n",
       "      <td>6565</td>\n",
       "    </tr>\n",
       "    <tr>\n",
       "      <td>Don’t know/refused</td>\n",
       "      <td>156</td>\n",
       "    </tr>\n",
       "    <tr>\n",
       "      <td>Evangelical Prot</td>\n",
       "      <td>7943</td>\n",
       "    </tr>\n",
       "    <tr>\n",
       "      <td>Hindu</td>\n",
       "      <td>220</td>\n",
       "    </tr>\n",
       "    <tr>\n",
       "      <td>Historically Black Prot</td>\n",
       "      <td>1656</td>\n",
       "    </tr>\n",
       "    <tr>\n",
       "      <td>Jehovah's Witness</td>\n",
       "      <td>178</td>\n",
       "    </tr>\n",
       "    <tr>\n",
       "      <td>Jewish</td>\n",
       "      <td>520</td>\n",
       "    </tr>\n",
       "    <tr>\n",
       "      <td>Mainline Prot</td>\n",
       "      <td>6142</td>\n",
       "    </tr>\n",
       "    <tr>\n",
       "      <td>Mormon</td>\n",
       "      <td>512</td>\n",
       "    </tr>\n",
       "    <tr>\n",
       "      <td>Muslim</td>\n",
       "      <td>94</td>\n",
       "    </tr>\n",
       "    <tr>\n",
       "      <td>Orthodox</td>\n",
       "      <td>290</td>\n",
       "    </tr>\n",
       "    <tr>\n",
       "      <td>Other Christian</td>\n",
       "      <td>111</td>\n",
       "    </tr>\n",
       "    <tr>\n",
       "      <td>Other Faiths</td>\n",
       "      <td>378</td>\n",
       "    </tr>\n",
       "    <tr>\n",
       "      <td>Other World Religions</td>\n",
       "      <td>34</td>\n",
       "    </tr>\n",
       "    <tr>\n",
       "      <td>Unaffiliated</td>\n",
       "      <td>3110</td>\n",
       "    </tr>\n",
       "  </tbody>\n",
       "</table>\n",
       "</div>"
      ],
      "text/plain": [
       "                         Number of followers\n",
       "Religion                                    \n",
       "Agnostic                                 730\n",
       "Atheist                                  439\n",
       "Buddhist                                 357\n",
       "Catholic                                6565\n",
       "Don’t know/refused                       156\n",
       "Evangelical Prot                        7943\n",
       "Hindu                                    220\n",
       "Historically Black Prot                 1656\n",
       "Jehovah's Witness                        178\n",
       "Jewish                                   520\n",
       "Mainline Prot                           6142\n",
       "Mormon                                   512\n",
       "Muslim                                    94\n",
       "Orthodox                                 290\n",
       "Other Christian                          111\n",
       "Other Faiths                             378\n",
       "Other World Religions                     34\n",
       "Unaffiliated                            3110"
      ]
     },
     "execution_count": 23,
     "metadata": {},
     "output_type": "execute_result"
    }
   ],
   "source": [
    "print('Total count according to the Number of followers per religion: ')\n",
    "freq_sum = pew_useful_data.groupby('Religion')['Number of followers'].sum()\n",
    "freq_sum = pd.DataFrame(freq_sum)\n",
    "freq_sum"
   ]
  },
  {
   "cell_type": "markdown",
   "metadata": {},
   "source": [
    "# Creating a style highliting the maximum value"
   ]
  },
  {
   "cell_type": "code",
   "execution_count": 24,
   "metadata": {},
   "outputs": [],
   "source": [
    "def highlight_max(s):\n",
    "    '''\n",
    "    highlight the maximum in a Series yellow.\n",
    "    '''\n",
    "    is_max = s == s.max()\n",
    "    return ['background-color: yellow' if v else '' for v in is_max]"
   ]
  },
  {
   "cell_type": "markdown",
   "metadata": {},
   "source": [
    "# Creating a style highliting the minimum value"
   ]
  },
  {
   "cell_type": "code",
   "execution_count": 25,
   "metadata": {},
   "outputs": [],
   "source": [
    "def highlight_min(s):\n",
    "    '''\n",
    "    highlight the minimun in a Series yellow.\n",
    "    '''\n",
    "    is_min = s == s.min()\n",
    "    return ['background-color: red' if v else '' for v in is_min]"
   ]
  },
  {
   "cell_type": "markdown",
   "metadata": {},
   "source": [
    "# Applying the min and max highliting in the freq_sum dataframe"
   ]
  },
  {
   "cell_type": "code",
   "execution_count": 26,
   "metadata": {},
   "outputs": [
    {
     "name": "stdout",
     "output_type": "stream",
     "text": [
      "Highliting the min and max followers of a religion\n"
     ]
    },
    {
     "data": {
      "text/html": [
       "<style  type=\"text/css\" >\n",
       "    #T_9f7e564a_a98d_11ea_b7a5_c4b301d0d527row5_col0 {\n",
       "            : ;\n",
       "            background-color:  yellow;\n",
       "        }    #T_9f7e564a_a98d_11ea_b7a5_c4b301d0d527row16_col0 {\n",
       "            background-color:  red;\n",
       "            : ;\n",
       "        }</style><table id=\"T_9f7e564a_a98d_11ea_b7a5_c4b301d0d527\" ><thead>    <tr>        <th class=\"blank level0\" ></th>        <th class=\"col_heading level0 col0\" >Number of followers</th>    </tr>    <tr>        <th class=\"index_name level0\" >Religion</th>        <th class=\"blank\" ></th>    </tr></thead><tbody>\n",
       "                <tr>\n",
       "                        <th id=\"T_9f7e564a_a98d_11ea_b7a5_c4b301d0d527level0_row0\" class=\"row_heading level0 row0\" >Agnostic</th>\n",
       "                        <td id=\"T_9f7e564a_a98d_11ea_b7a5_c4b301d0d527row0_col0\" class=\"data row0 col0\" >730</td>\n",
       "            </tr>\n",
       "            <tr>\n",
       "                        <th id=\"T_9f7e564a_a98d_11ea_b7a5_c4b301d0d527level0_row1\" class=\"row_heading level0 row1\" >Atheist</th>\n",
       "                        <td id=\"T_9f7e564a_a98d_11ea_b7a5_c4b301d0d527row1_col0\" class=\"data row1 col0\" >439</td>\n",
       "            </tr>\n",
       "            <tr>\n",
       "                        <th id=\"T_9f7e564a_a98d_11ea_b7a5_c4b301d0d527level0_row2\" class=\"row_heading level0 row2\" >Buddhist</th>\n",
       "                        <td id=\"T_9f7e564a_a98d_11ea_b7a5_c4b301d0d527row2_col0\" class=\"data row2 col0\" >357</td>\n",
       "            </tr>\n",
       "            <tr>\n",
       "                        <th id=\"T_9f7e564a_a98d_11ea_b7a5_c4b301d0d527level0_row3\" class=\"row_heading level0 row3\" >Catholic</th>\n",
       "                        <td id=\"T_9f7e564a_a98d_11ea_b7a5_c4b301d0d527row3_col0\" class=\"data row3 col0\" >6565</td>\n",
       "            </tr>\n",
       "            <tr>\n",
       "                        <th id=\"T_9f7e564a_a98d_11ea_b7a5_c4b301d0d527level0_row4\" class=\"row_heading level0 row4\" >Don’t know/refused</th>\n",
       "                        <td id=\"T_9f7e564a_a98d_11ea_b7a5_c4b301d0d527row4_col0\" class=\"data row4 col0\" >156</td>\n",
       "            </tr>\n",
       "            <tr>\n",
       "                        <th id=\"T_9f7e564a_a98d_11ea_b7a5_c4b301d0d527level0_row5\" class=\"row_heading level0 row5\" >Evangelical Prot</th>\n",
       "                        <td id=\"T_9f7e564a_a98d_11ea_b7a5_c4b301d0d527row5_col0\" class=\"data row5 col0\" >7943</td>\n",
       "            </tr>\n",
       "            <tr>\n",
       "                        <th id=\"T_9f7e564a_a98d_11ea_b7a5_c4b301d0d527level0_row6\" class=\"row_heading level0 row6\" >Hindu</th>\n",
       "                        <td id=\"T_9f7e564a_a98d_11ea_b7a5_c4b301d0d527row6_col0\" class=\"data row6 col0\" >220</td>\n",
       "            </tr>\n",
       "            <tr>\n",
       "                        <th id=\"T_9f7e564a_a98d_11ea_b7a5_c4b301d0d527level0_row7\" class=\"row_heading level0 row7\" >Historically Black Prot</th>\n",
       "                        <td id=\"T_9f7e564a_a98d_11ea_b7a5_c4b301d0d527row7_col0\" class=\"data row7 col0\" >1656</td>\n",
       "            </tr>\n",
       "            <tr>\n",
       "                        <th id=\"T_9f7e564a_a98d_11ea_b7a5_c4b301d0d527level0_row8\" class=\"row_heading level0 row8\" >Jehovah's Witness</th>\n",
       "                        <td id=\"T_9f7e564a_a98d_11ea_b7a5_c4b301d0d527row8_col0\" class=\"data row8 col0\" >178</td>\n",
       "            </tr>\n",
       "            <tr>\n",
       "                        <th id=\"T_9f7e564a_a98d_11ea_b7a5_c4b301d0d527level0_row9\" class=\"row_heading level0 row9\" >Jewish</th>\n",
       "                        <td id=\"T_9f7e564a_a98d_11ea_b7a5_c4b301d0d527row9_col0\" class=\"data row9 col0\" >520</td>\n",
       "            </tr>\n",
       "            <tr>\n",
       "                        <th id=\"T_9f7e564a_a98d_11ea_b7a5_c4b301d0d527level0_row10\" class=\"row_heading level0 row10\" >Mainline Prot</th>\n",
       "                        <td id=\"T_9f7e564a_a98d_11ea_b7a5_c4b301d0d527row10_col0\" class=\"data row10 col0\" >6142</td>\n",
       "            </tr>\n",
       "            <tr>\n",
       "                        <th id=\"T_9f7e564a_a98d_11ea_b7a5_c4b301d0d527level0_row11\" class=\"row_heading level0 row11\" >Mormon</th>\n",
       "                        <td id=\"T_9f7e564a_a98d_11ea_b7a5_c4b301d0d527row11_col0\" class=\"data row11 col0\" >512</td>\n",
       "            </tr>\n",
       "            <tr>\n",
       "                        <th id=\"T_9f7e564a_a98d_11ea_b7a5_c4b301d0d527level0_row12\" class=\"row_heading level0 row12\" >Muslim</th>\n",
       "                        <td id=\"T_9f7e564a_a98d_11ea_b7a5_c4b301d0d527row12_col0\" class=\"data row12 col0\" >94</td>\n",
       "            </tr>\n",
       "            <tr>\n",
       "                        <th id=\"T_9f7e564a_a98d_11ea_b7a5_c4b301d0d527level0_row13\" class=\"row_heading level0 row13\" >Orthodox</th>\n",
       "                        <td id=\"T_9f7e564a_a98d_11ea_b7a5_c4b301d0d527row13_col0\" class=\"data row13 col0\" >290</td>\n",
       "            </tr>\n",
       "            <tr>\n",
       "                        <th id=\"T_9f7e564a_a98d_11ea_b7a5_c4b301d0d527level0_row14\" class=\"row_heading level0 row14\" >Other Christian</th>\n",
       "                        <td id=\"T_9f7e564a_a98d_11ea_b7a5_c4b301d0d527row14_col0\" class=\"data row14 col0\" >111</td>\n",
       "            </tr>\n",
       "            <tr>\n",
       "                        <th id=\"T_9f7e564a_a98d_11ea_b7a5_c4b301d0d527level0_row15\" class=\"row_heading level0 row15\" >Other Faiths</th>\n",
       "                        <td id=\"T_9f7e564a_a98d_11ea_b7a5_c4b301d0d527row15_col0\" class=\"data row15 col0\" >378</td>\n",
       "            </tr>\n",
       "            <tr>\n",
       "                        <th id=\"T_9f7e564a_a98d_11ea_b7a5_c4b301d0d527level0_row16\" class=\"row_heading level0 row16\" >Other World Religions</th>\n",
       "                        <td id=\"T_9f7e564a_a98d_11ea_b7a5_c4b301d0d527row16_col0\" class=\"data row16 col0\" >34</td>\n",
       "            </tr>\n",
       "            <tr>\n",
       "                        <th id=\"T_9f7e564a_a98d_11ea_b7a5_c4b301d0d527level0_row17\" class=\"row_heading level0 row17\" >Unaffiliated</th>\n",
       "                        <td id=\"T_9f7e564a_a98d_11ea_b7a5_c4b301d0d527row17_col0\" class=\"data row17 col0\" >3110</td>\n",
       "            </tr>\n",
       "    </tbody></table>"
      ],
      "text/plain": [
       "<pandas.io.formats.style.Styler at 0x7fe1f9b36990>"
      ]
     },
     "execution_count": 26,
     "metadata": {},
     "output_type": "execute_result"
    }
   ],
   "source": [
    "print('Highliting the min and max followers of a religion')\n",
    "freq_sum.style.\\\n",
    "    apply(highlight_min).\\\n",
    "    apply(highlight_max)"
   ]
  },
  {
   "cell_type": "markdown",
   "metadata": {},
   "source": [
    "# Calculating a mean income for the particular range"
   ]
  },
  {
   "cell_type": "code",
   "execution_count": 27,
   "metadata": {},
   "outputs": [],
   "source": [
    "# rounding as people"
   ]
  },
  {
   "cell_type": "code",
   "execution_count": 28,
   "metadata": {},
   "outputs": [
    {
     "name": "stdout",
     "output_type": "stream",
     "text": [
      "The follower mean according to income: \n"
     ]
    },
    {
     "data": {
      "text/html": [
       "<div>\n",
       "<style scoped>\n",
       "    .dataframe tbody tr th:only-of-type {\n",
       "        vertical-align: middle;\n",
       "    }\n",
       "\n",
       "    .dataframe tbody tr th {\n",
       "        vertical-align: top;\n",
       "    }\n",
       "\n",
       "    .dataframe thead th {\n",
       "        text-align: right;\n",
       "    }\n",
       "</style>\n",
       "<table border=\"1\" class=\"dataframe\">\n",
       "  <thead>\n",
       "    <tr style=\"text-align: right;\">\n",
       "      <th></th>\n",
       "      <th>Number of followers</th>\n",
       "    </tr>\n",
       "    <tr>\n",
       "      <th>IncomeDollarsPerThousand</th>\n",
       "      <th></th>\n",
       "    </tr>\n",
       "  </thead>\n",
       "  <tbody>\n",
       "    <tr>\n",
       "      <td>10</td>\n",
       "      <td>107.0</td>\n",
       "    </tr>\n",
       "    <tr>\n",
       "      <td>20</td>\n",
       "      <td>154.0</td>\n",
       "    </tr>\n",
       "    <tr>\n",
       "      <td>30</td>\n",
       "      <td>186.0</td>\n",
       "    </tr>\n",
       "    <tr>\n",
       "      <td>40</td>\n",
       "      <td>183.0</td>\n",
       "    </tr>\n",
       "    <tr>\n",
       "      <td>50</td>\n",
       "      <td>171.0</td>\n",
       "    </tr>\n",
       "    <tr>\n",
       "      <td>75</td>\n",
       "      <td>288.0</td>\n",
       "    </tr>\n",
       "    <tr>\n",
       "      <td>100</td>\n",
       "      <td>222.0</td>\n",
       "    </tr>\n",
       "    <tr>\n",
       "      <td>150</td>\n",
       "      <td>161.0</td>\n",
       "    </tr>\n",
       "  </tbody>\n",
       "</table>\n",
       "</div>"
      ],
      "text/plain": [
       "                          Number of followers\n",
       "IncomeDollarsPerThousand                     \n",
       "10                                      107.0\n",
       "20                                      154.0\n",
       "30                                      186.0\n",
       "40                                      183.0\n",
       "50                                      171.0\n",
       "75                                      288.0\n",
       "100                                     222.0\n",
       "150                                     161.0"
      ]
     },
     "execution_count": 28,
     "metadata": {},
     "output_type": "execute_result"
    }
   ],
   "source": [
    "print('The follower mean according to income: ')\n",
    "x = pew_useful_data.groupby('IncomeDollarsPerThousand').mean()\n",
    "x = x.round({'Number of followers': 0})\n",
    "x"
   ]
  },
  {
   "cell_type": "code",
   "execution_count": 29,
   "metadata": {},
   "outputs": [
    {
     "name": "stdout",
     "output_type": "stream",
     "text": [
      "The total income mean: \n"
     ]
    },
    {
     "data": {
      "text/plain": [
       "Number of followers    184.253472\n",
       "dtype: float64"
      ]
     },
     "execution_count": 29,
     "metadata": {},
     "output_type": "execute_result"
    }
   ],
   "source": [
    "print('The total income mean: ')\n",
    "pew_useful_data.groupby('IncomeDollarsPerThousand').mean().mean()\n"
   ]
  },
  {
   "cell_type": "markdown",
   "metadata": {},
   "source": [
    "# Highlighting the max mean income"
   ]
  },
  {
   "cell_type": "code",
   "execution_count": 30,
   "metadata": {},
   "outputs": [
    {
     "name": "stdout",
     "output_type": "stream",
     "text": [
      "Highlighting the max mean income\n"
     ]
    },
    {
     "data": {
      "text/html": [
       "<style  type=\"text/css\" >\n",
       "    #T_9f8c8eea_a98d_11ea_b7a5_c4b301d0d527row5_col0 {\n",
       "            background-color:  yellow;\n",
       "        }</style><table id=\"T_9f8c8eea_a98d_11ea_b7a5_c4b301d0d527\" ><thead>    <tr>        <th class=\"blank level0\" ></th>        <th class=\"col_heading level0 col0\" >Number of followers</th>    </tr>    <tr>        <th class=\"index_name level0\" >IncomeDollarsPerThousand</th>        <th class=\"blank\" ></th>    </tr></thead><tbody>\n",
       "                <tr>\n",
       "                        <th id=\"T_9f8c8eea_a98d_11ea_b7a5_c4b301d0d527level0_row0\" class=\"row_heading level0 row0\" >10</th>\n",
       "                        <td id=\"T_9f8c8eea_a98d_11ea_b7a5_c4b301d0d527row0_col0\" class=\"data row0 col0\" >107</td>\n",
       "            </tr>\n",
       "            <tr>\n",
       "                        <th id=\"T_9f8c8eea_a98d_11ea_b7a5_c4b301d0d527level0_row1\" class=\"row_heading level0 row1\" >20</th>\n",
       "                        <td id=\"T_9f8c8eea_a98d_11ea_b7a5_c4b301d0d527row1_col0\" class=\"data row1 col0\" >154</td>\n",
       "            </tr>\n",
       "            <tr>\n",
       "                        <th id=\"T_9f8c8eea_a98d_11ea_b7a5_c4b301d0d527level0_row2\" class=\"row_heading level0 row2\" >30</th>\n",
       "                        <td id=\"T_9f8c8eea_a98d_11ea_b7a5_c4b301d0d527row2_col0\" class=\"data row2 col0\" >186</td>\n",
       "            </tr>\n",
       "            <tr>\n",
       "                        <th id=\"T_9f8c8eea_a98d_11ea_b7a5_c4b301d0d527level0_row3\" class=\"row_heading level0 row3\" >40</th>\n",
       "                        <td id=\"T_9f8c8eea_a98d_11ea_b7a5_c4b301d0d527row3_col0\" class=\"data row3 col0\" >183</td>\n",
       "            </tr>\n",
       "            <tr>\n",
       "                        <th id=\"T_9f8c8eea_a98d_11ea_b7a5_c4b301d0d527level0_row4\" class=\"row_heading level0 row4\" >50</th>\n",
       "                        <td id=\"T_9f8c8eea_a98d_11ea_b7a5_c4b301d0d527row4_col0\" class=\"data row4 col0\" >171</td>\n",
       "            </tr>\n",
       "            <tr>\n",
       "                        <th id=\"T_9f8c8eea_a98d_11ea_b7a5_c4b301d0d527level0_row5\" class=\"row_heading level0 row5\" >75</th>\n",
       "                        <td id=\"T_9f8c8eea_a98d_11ea_b7a5_c4b301d0d527row5_col0\" class=\"data row5 col0\" >288</td>\n",
       "            </tr>\n",
       "            <tr>\n",
       "                        <th id=\"T_9f8c8eea_a98d_11ea_b7a5_c4b301d0d527level0_row6\" class=\"row_heading level0 row6\" >100</th>\n",
       "                        <td id=\"T_9f8c8eea_a98d_11ea_b7a5_c4b301d0d527row6_col0\" class=\"data row6 col0\" >222</td>\n",
       "            </tr>\n",
       "            <tr>\n",
       "                        <th id=\"T_9f8c8eea_a98d_11ea_b7a5_c4b301d0d527level0_row7\" class=\"row_heading level0 row7\" >150</th>\n",
       "                        <td id=\"T_9f8c8eea_a98d_11ea_b7a5_c4b301d0d527row7_col0\" class=\"data row7 col0\" >161</td>\n",
       "            </tr>\n",
       "    </tbody></table>"
      ],
      "text/plain": [
       "<pandas.io.formats.style.Styler at 0x7fe1fb02b6d0>"
      ]
     },
     "execution_count": 30,
     "metadata": {},
     "output_type": "execute_result"
    }
   ],
   "source": [
    "print('Highlighting the max mean income')\n",
    "x.style.apply(highlight_max)"
   ]
  },
  {
   "cell_type": "markdown",
   "metadata": {},
   "source": [
    "# Creating a function of dipicting less value in red"
   ]
  },
  {
   "cell_type": "code",
   "execution_count": 31,
   "metadata": {},
   "outputs": [],
   "source": [
    "def color_negative_red(val):\n",
    "    \"\"\"\n",
    "    Takes a scalar and returns a string with\n",
    "    the css property `'color: red'` for negative\n",
    "    strings, black otherwise.\n",
    "    \"\"\"\n",
    "    color = 'red' if val < 181 else 'black'\n",
    "    return 'color: %s' % color"
   ]
  },
  {
   "cell_type": "markdown",
   "metadata": {},
   "source": [
    "# Highlighting the max mean and styling values less than mean in red"
   ]
  },
  {
   "cell_type": "code",
   "execution_count": 32,
   "metadata": {},
   "outputs": [
    {
     "data": {
      "text/html": [
       "<style  type=\"text/css\" >\n",
       "    #T_9f95a1c4_a98d_11ea_b7a5_c4b301d0d527row0_col0 {\n",
       "            color:  red;\n",
       "            : ;\n",
       "        }    #T_9f95a1c4_a98d_11ea_b7a5_c4b301d0d527row1_col0 {\n",
       "            color:  red;\n",
       "            : ;\n",
       "        }    #T_9f95a1c4_a98d_11ea_b7a5_c4b301d0d527row2_col0 {\n",
       "            color:  black;\n",
       "            : ;\n",
       "        }    #T_9f95a1c4_a98d_11ea_b7a5_c4b301d0d527row3_col0 {\n",
       "            color:  black;\n",
       "            : ;\n",
       "        }    #T_9f95a1c4_a98d_11ea_b7a5_c4b301d0d527row4_col0 {\n",
       "            color:  red;\n",
       "            : ;\n",
       "        }    #T_9f95a1c4_a98d_11ea_b7a5_c4b301d0d527row5_col0 {\n",
       "            color:  black;\n",
       "            background-color:  yellow;\n",
       "        }    #T_9f95a1c4_a98d_11ea_b7a5_c4b301d0d527row6_col0 {\n",
       "            color:  black;\n",
       "            : ;\n",
       "        }    #T_9f95a1c4_a98d_11ea_b7a5_c4b301d0d527row7_col0 {\n",
       "            color:  red;\n",
       "            : ;\n",
       "        }</style><table id=\"T_9f95a1c4_a98d_11ea_b7a5_c4b301d0d527\" ><thead>    <tr>        <th class=\"blank level0\" ></th>        <th class=\"col_heading level0 col0\" >Number of followers</th>    </tr>    <tr>        <th class=\"index_name level0\" >IncomeDollarsPerThousand</th>        <th class=\"blank\" ></th>    </tr></thead><tbody>\n",
       "                <tr>\n",
       "                        <th id=\"T_9f95a1c4_a98d_11ea_b7a5_c4b301d0d527level0_row0\" class=\"row_heading level0 row0\" >10</th>\n",
       "                        <td id=\"T_9f95a1c4_a98d_11ea_b7a5_c4b301d0d527row0_col0\" class=\"data row0 col0\" >107</td>\n",
       "            </tr>\n",
       "            <tr>\n",
       "                        <th id=\"T_9f95a1c4_a98d_11ea_b7a5_c4b301d0d527level0_row1\" class=\"row_heading level0 row1\" >20</th>\n",
       "                        <td id=\"T_9f95a1c4_a98d_11ea_b7a5_c4b301d0d527row1_col0\" class=\"data row1 col0\" >154</td>\n",
       "            </tr>\n",
       "            <tr>\n",
       "                        <th id=\"T_9f95a1c4_a98d_11ea_b7a5_c4b301d0d527level0_row2\" class=\"row_heading level0 row2\" >30</th>\n",
       "                        <td id=\"T_9f95a1c4_a98d_11ea_b7a5_c4b301d0d527row2_col0\" class=\"data row2 col0\" >186</td>\n",
       "            </tr>\n",
       "            <tr>\n",
       "                        <th id=\"T_9f95a1c4_a98d_11ea_b7a5_c4b301d0d527level0_row3\" class=\"row_heading level0 row3\" >40</th>\n",
       "                        <td id=\"T_9f95a1c4_a98d_11ea_b7a5_c4b301d0d527row3_col0\" class=\"data row3 col0\" >183</td>\n",
       "            </tr>\n",
       "            <tr>\n",
       "                        <th id=\"T_9f95a1c4_a98d_11ea_b7a5_c4b301d0d527level0_row4\" class=\"row_heading level0 row4\" >50</th>\n",
       "                        <td id=\"T_9f95a1c4_a98d_11ea_b7a5_c4b301d0d527row4_col0\" class=\"data row4 col0\" >171</td>\n",
       "            </tr>\n",
       "            <tr>\n",
       "                        <th id=\"T_9f95a1c4_a98d_11ea_b7a5_c4b301d0d527level0_row5\" class=\"row_heading level0 row5\" >75</th>\n",
       "                        <td id=\"T_9f95a1c4_a98d_11ea_b7a5_c4b301d0d527row5_col0\" class=\"data row5 col0\" >288</td>\n",
       "            </tr>\n",
       "            <tr>\n",
       "                        <th id=\"T_9f95a1c4_a98d_11ea_b7a5_c4b301d0d527level0_row6\" class=\"row_heading level0 row6\" >100</th>\n",
       "                        <td id=\"T_9f95a1c4_a98d_11ea_b7a5_c4b301d0d527row6_col0\" class=\"data row6 col0\" >222</td>\n",
       "            </tr>\n",
       "            <tr>\n",
       "                        <th id=\"T_9f95a1c4_a98d_11ea_b7a5_c4b301d0d527level0_row7\" class=\"row_heading level0 row7\" >150</th>\n",
       "                        <td id=\"T_9f95a1c4_a98d_11ea_b7a5_c4b301d0d527row7_col0\" class=\"data row7 col0\" >161</td>\n",
       "            </tr>\n",
       "    </tbody></table>"
      ],
      "text/plain": [
       "<pandas.io.formats.style.Styler at 0x7fe1fa4d5550>"
      ]
     },
     "execution_count": 32,
     "metadata": {},
     "output_type": "execute_result"
    }
   ],
   "source": [
    "x.style.\\\n",
    "    applymap(color_negative_red).\\\n",
    "    apply(highlight_max)"
   ]
  },
  {
   "cell_type": "code",
   "execution_count": 33,
   "metadata": {},
   "outputs": [
    {
     "data": {
      "text/html": [
       "<style  type=\"text/css\" >\n",
       "    #T_9f98971c_a98d_11ea_b7a5_c4b301d0d527row0_col0 {\n",
       "            color:  red;\n",
       "        }    #T_9f98971c_a98d_11ea_b7a5_c4b301d0d527row1_col0 {\n",
       "            color:  red;\n",
       "        }    #T_9f98971c_a98d_11ea_b7a5_c4b301d0d527row2_col0 {\n",
       "            color:  black;\n",
       "        }    #T_9f98971c_a98d_11ea_b7a5_c4b301d0d527row3_col0 {\n",
       "            color:  black;\n",
       "        }    #T_9f98971c_a98d_11ea_b7a5_c4b301d0d527row4_col0 {\n",
       "            color:  red;\n",
       "        }    #T_9f98971c_a98d_11ea_b7a5_c4b301d0d527row5_col0 {\n",
       "            color:  black;\n",
       "        }    #T_9f98971c_a98d_11ea_b7a5_c4b301d0d527row6_col0 {\n",
       "            color:  black;\n",
       "        }    #T_9f98971c_a98d_11ea_b7a5_c4b301d0d527row7_col0 {\n",
       "            color:  red;\n",
       "        }</style><table id=\"T_9f98971c_a98d_11ea_b7a5_c4b301d0d527\" ><thead>    <tr>        <th class=\"blank level0\" ></th>        <th class=\"col_heading level0 col0\" >Number of followers</th>    </tr>    <tr>        <th class=\"index_name level0\" >IncomeDollarsPerThousand</th>        <th class=\"blank\" ></th>    </tr></thead><tbody>\n",
       "                <tr>\n",
       "                        <th id=\"T_9f98971c_a98d_11ea_b7a5_c4b301d0d527level0_row0\" class=\"row_heading level0 row0\" >10</th>\n",
       "                        <td id=\"T_9f98971c_a98d_11ea_b7a5_c4b301d0d527row0_col0\" class=\"data row0 col0\" >107</td>\n",
       "            </tr>\n",
       "            <tr>\n",
       "                        <th id=\"T_9f98971c_a98d_11ea_b7a5_c4b301d0d527level0_row1\" class=\"row_heading level0 row1\" >20</th>\n",
       "                        <td id=\"T_9f98971c_a98d_11ea_b7a5_c4b301d0d527row1_col0\" class=\"data row1 col0\" >154</td>\n",
       "            </tr>\n",
       "            <tr>\n",
       "                        <th id=\"T_9f98971c_a98d_11ea_b7a5_c4b301d0d527level0_row2\" class=\"row_heading level0 row2\" >30</th>\n",
       "                        <td id=\"T_9f98971c_a98d_11ea_b7a5_c4b301d0d527row2_col0\" class=\"data row2 col0\" >186</td>\n",
       "            </tr>\n",
       "            <tr>\n",
       "                        <th id=\"T_9f98971c_a98d_11ea_b7a5_c4b301d0d527level0_row3\" class=\"row_heading level0 row3\" >40</th>\n",
       "                        <td id=\"T_9f98971c_a98d_11ea_b7a5_c4b301d0d527row3_col0\" class=\"data row3 col0\" >183</td>\n",
       "            </tr>\n",
       "            <tr>\n",
       "                        <th id=\"T_9f98971c_a98d_11ea_b7a5_c4b301d0d527level0_row4\" class=\"row_heading level0 row4\" >50</th>\n",
       "                        <td id=\"T_9f98971c_a98d_11ea_b7a5_c4b301d0d527row4_col0\" class=\"data row4 col0\" >171</td>\n",
       "            </tr>\n",
       "            <tr>\n",
       "                        <th id=\"T_9f98971c_a98d_11ea_b7a5_c4b301d0d527level0_row5\" class=\"row_heading level0 row5\" >75</th>\n",
       "                        <td id=\"T_9f98971c_a98d_11ea_b7a5_c4b301d0d527row5_col0\" class=\"data row5 col0\" >288</td>\n",
       "            </tr>\n",
       "            <tr>\n",
       "                        <th id=\"T_9f98971c_a98d_11ea_b7a5_c4b301d0d527level0_row6\" class=\"row_heading level0 row6\" >100</th>\n",
       "                        <td id=\"T_9f98971c_a98d_11ea_b7a5_c4b301d0d527row6_col0\" class=\"data row6 col0\" >222</td>\n",
       "            </tr>\n",
       "            <tr>\n",
       "                        <th id=\"T_9f98971c_a98d_11ea_b7a5_c4b301d0d527level0_row7\" class=\"row_heading level0 row7\" >150</th>\n",
       "                        <td id=\"T_9f98971c_a98d_11ea_b7a5_c4b301d0d527row7_col0\" class=\"data row7 col0\" >161</td>\n",
       "            </tr>\n",
       "    </tbody></table>"
      ],
      "text/plain": [
       "<pandas.io.formats.style.Styler at 0x7fe1fb0af2d0>"
      ]
     },
     "execution_count": 33,
     "metadata": {},
     "output_type": "execute_result"
    }
   ],
   "source": [
    "s = x.style.applymap(color_negative_red)\n",
    "s"
   ]
  },
  {
   "cell_type": "markdown",
   "metadata": {},
   "source": [
    "# Calculating the sum of all income group"
   ]
  },
  {
   "cell_type": "code",
   "execution_count": 34,
   "metadata": {},
   "outputs": [
    {
     "name": "stdout",
     "output_type": "stream",
     "text": [
      "The sum of income per religion per income group:  \n"
     ]
    },
    {
     "data": {
      "text/html": [
       "<div>\n",
       "<style scoped>\n",
       "    .dataframe tbody tr th:only-of-type {\n",
       "        vertical-align: middle;\n",
       "    }\n",
       "\n",
       "    .dataframe tbody tr th {\n",
       "        vertical-align: top;\n",
       "    }\n",
       "\n",
       "    .dataframe thead th {\n",
       "        text-align: right;\n",
       "    }\n",
       "</style>\n",
       "<table border=\"1\" class=\"dataframe\">\n",
       "  <thead>\n",
       "    <tr style=\"text-align: right;\">\n",
       "      <th></th>\n",
       "      <th>Number of followers</th>\n",
       "    </tr>\n",
       "    <tr>\n",
       "      <th>IncomeDollarsPerThousand</th>\n",
       "      <th></th>\n",
       "    </tr>\n",
       "  </thead>\n",
       "  <tbody>\n",
       "    <tr>\n",
       "      <td>10</td>\n",
       "      <td>1930</td>\n",
       "    </tr>\n",
       "    <tr>\n",
       "      <td>20</td>\n",
       "      <td>2781</td>\n",
       "    </tr>\n",
       "    <tr>\n",
       "      <td>30</td>\n",
       "      <td>3357</td>\n",
       "    </tr>\n",
       "    <tr>\n",
       "      <td>40</td>\n",
       "      <td>3302</td>\n",
       "    </tr>\n",
       "    <tr>\n",
       "      <td>50</td>\n",
       "      <td>3085</td>\n",
       "    </tr>\n",
       "    <tr>\n",
       "      <td>75</td>\n",
       "      <td>5185</td>\n",
       "    </tr>\n",
       "    <tr>\n",
       "      <td>100</td>\n",
       "      <td>3990</td>\n",
       "    </tr>\n",
       "    <tr>\n",
       "      <td>150</td>\n",
       "      <td>5805</td>\n",
       "    </tr>\n",
       "  </tbody>\n",
       "</table>\n",
       "</div>"
      ],
      "text/plain": [
       "                          Number of followers\n",
       "IncomeDollarsPerThousand                     \n",
       "10                                       1930\n",
       "20                                       2781\n",
       "30                                       3357\n",
       "40                                       3302\n",
       "50                                       3085\n",
       "75                                       5185\n",
       "100                                      3990\n",
       "150                                      5805"
      ]
     },
     "execution_count": 34,
     "metadata": {},
     "output_type": "execute_result"
    }
   ],
   "source": [
    "print('The sum of income per religion per income group:  ')\n",
    "pew_useful_data.groupby('IncomeDollarsPerThousand').sum()"
   ]
  },
  {
   "cell_type": "markdown",
   "metadata": {},
   "source": [
    "# Determing the co-relation cooefficient"
   ]
  },
  {
   "cell_type": "code",
   "execution_count": 35,
   "metadata": {},
   "outputs": [
    {
     "data": {
      "text/plain": [
       "0.03208320172817475"
      ]
     },
     "execution_count": 35,
     "metadata": {},
     "output_type": "execute_result"
    }
   ],
   "source": [
    "pew_useful_data['IncomeDollarsPerThousand'].corr(pew_useful_data['Number of followers'])"
   ]
  },
  {
   "cell_type": "markdown",
   "metadata": {},
   "source": [
    "# Generating the heat map showing the corelation between columns"
   ]
  },
  {
   "cell_type": "code",
   "execution_count": 36,
   "metadata": {},
   "outputs": [
    {
     "data": {
      "image/png": "[encoded data removed]",
      "text/plain": [
       "<Figure size 432x288 with 2 Axes>"
      ]
     },
     "metadata": {
      "needs_background": "light"
     },
     "output_type": "display_data"
    }
   ],
   "source": [
    "import seaborn as sn\n",
    "import matplotlib.pyplot as plt\n",
    "corrMatrix = pew_useful_data.corr()\n",
    "\n",
    "sn.heatmap(corrMatrix, annot=True, cmap=\"YlGnBu\")\n",
    "plt.show()"
   ]
  },
  {
   "cell_type": "markdown",
   "metadata": {},
   "source": [
    "# taking on Hindu religion"
   ]
  },
  {
   "cell_type": "code",
   "execution_count": 37,
   "metadata": {},
   "outputs": [
    {
     "data": {
      "text/html": [
       "<div>\n",
       "<style scoped>\n",
       "    .dataframe tbody tr th:only-of-type {\n",
       "        vertical-align: middle;\n",
       "    }\n",
       "\n",
       "    .dataframe tbody tr th {\n",
       "        vertical-align: top;\n",
       "    }\n",
       "\n",
       "    .dataframe thead th {\n",
       "        text-align: right;\n",
       "    }\n",
       "</style>\n",
       "<table border=\"1\" class=\"dataframe\">\n",
       "  <thead>\n",
       "    <tr style=\"text-align: right;\">\n",
       "      <th></th>\n",
       "      <th>Religion</th>\n",
       "      <th>IncomeDollarsPerThousand</th>\n",
       "      <th>Number of followers</th>\n",
       "    </tr>\n",
       "  </thead>\n",
       "  <tbody>\n",
       "    <tr>\n",
       "      <td>6</td>\n",
       "      <td>Hindu</td>\n",
       "      <td>10</td>\n",
       "      <td>1</td>\n",
       "    </tr>\n",
       "    <tr>\n",
       "      <td>24</td>\n",
       "      <td>Hindu</td>\n",
       "      <td>20</td>\n",
       "      <td>9</td>\n",
       "    </tr>\n",
       "    <tr>\n",
       "      <td>42</td>\n",
       "      <td>Hindu</td>\n",
       "      <td>30</td>\n",
       "      <td>7</td>\n",
       "    </tr>\n",
       "    <tr>\n",
       "      <td>60</td>\n",
       "      <td>Hindu</td>\n",
       "      <td>40</td>\n",
       "      <td>9</td>\n",
       "    </tr>\n",
       "    <tr>\n",
       "      <td>78</td>\n",
       "      <td>Hindu</td>\n",
       "      <td>50</td>\n",
       "      <td>11</td>\n",
       "    </tr>\n",
       "    <tr>\n",
       "      <td>96</td>\n",
       "      <td>Hindu</td>\n",
       "      <td>75</td>\n",
       "      <td>34</td>\n",
       "    </tr>\n",
       "    <tr>\n",
       "      <td>114</td>\n",
       "      <td>Hindu</td>\n",
       "      <td>100</td>\n",
       "      <td>47</td>\n",
       "    </tr>\n",
       "    <tr>\n",
       "      <td>132</td>\n",
       "      <td>Hindu</td>\n",
       "      <td>150</td>\n",
       "      <td>48</td>\n",
       "    </tr>\n",
       "    <tr>\n",
       "      <td>150</td>\n",
       "      <td>Hindu</td>\n",
       "      <td>150</td>\n",
       "      <td>54</td>\n",
       "    </tr>\n",
       "  </tbody>\n",
       "</table>\n",
       "</div>"
      ],
      "text/plain": [
       "    Religion  IncomeDollarsPerThousand  Number of followers\n",
       "6      Hindu                        10                    1\n",
       "24     Hindu                        20                    9\n",
       "42     Hindu                        30                    7\n",
       "60     Hindu                        40                    9\n",
       "78     Hindu                        50                   11\n",
       "96     Hindu                        75                   34\n",
       "114    Hindu                       100                   47\n",
       "132    Hindu                       150                   48\n",
       "150    Hindu                       150                   54"
      ]
     },
     "execution_count": 37,
     "metadata": {},
     "output_type": "execute_result"
    }
   ],
   "source": [
    "religion_hindu = pew_useful_data.loc[pew_useful_data['Religion'] == 'Hindu']\n",
    "religion_hindu"
   ]
  },
  {
   "cell_type": "code",
   "execution_count": 38,
   "metadata": {},
   "outputs": [
    {
     "name": "stdout",
     "output_type": "stream",
     "text": [
      "The mean income in this religion group is: \n"
     ]
    },
    {
     "data": {
      "text/plain": [
       "69.44444444444444"
      ]
     },
     "execution_count": 38,
     "metadata": {},
     "output_type": "execute_result"
    }
   ],
   "source": [
    "mean_income = religion_hindu['IncomeDollarsPerThousand'].mean()\n",
    "print('The mean income in this religion group is: ')\n",
    "mean_income"
   ]
  },
  {
   "cell_type": "code",
   "execution_count": null,
   "metadata": {},
   "outputs": [],
   "source": []
  }
 ],
 "metadata": {
  "kernelspec": {
   "display_name": "Python 3",
   "language": "python",
   "name": "python3"
  },
  "language_info": {
   "codemirror_mode": {
    "name": "ipython",
    "version": 3
   },
   "file_extension": ".py",
   "mimetype": "text/x-python",
   "name": "python",
   "nbconvert_exporter": "python",
   "pygments_lexer": "ipython3",
   "version": "3.7.4"
  },
  "toc": {
   "base_numbering": 1,
   "nav_menu": {},
   "number_sections": true,
   "sideBar": true,
   "skip_h1_title": false,
   "title_cell": "Table of Contents",
   "title_sidebar": "Contents",
   "toc_cell": false,
   "toc_position": {},
   "toc_section_display": true,
   "toc_window_display": false
  },
  "varInspector": {
   "cols": {
    "lenName": 16,
    "lenType": 16,
    "lenVar": 40
   },
   "kernels_config": {
    "python": {
     "delete_cmd_postfix": "",
     "delete_cmd_prefix": "del ",
     "library": "var_list.py",
     "varRefreshCmd": "print(var_dic_list())"
    },
    "r": {
     "delete_cmd_postfix": ") ",
     "delete_cmd_prefix": "rm(",
     "library": "var_list.r",
     "varRefreshCmd": "cat(var_dic_list()) "
    }
   },
   "types_to_exclude": [
    "module",
    "function",
    "builtin_function_or_method",
    "instance",
    "_Feature"
   ],
   "window_display": false
  }
 },
 "nbformat": 4,
 "nbformat_minor": 2
}
